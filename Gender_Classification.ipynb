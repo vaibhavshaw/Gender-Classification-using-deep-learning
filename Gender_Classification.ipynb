{
  "nbformat": 4,
  "nbformat_minor": 0,
  "metadata": {
    "colab": {
      "name": "Gender_Classification.ipynb",
      "version": "0.3.2",
      "provenance": [],
      "toc_visible": true
    },
    "language_info": {
      "codemirror_mode": {
        "name": "ipython",
        "version": 3
      },
      "file_extension": ".py",
      "mimetype": "text/x-python",
      "name": "python",
      "nbconvert_exporter": "python",
      "pygments_lexer": "ipython3",
      "version": "3.6.5"
    },
    "kernelspec": {
      "name": "python3",
      "display_name": "Python 3"
    },
    "accelerator": "TPU"
  },
  "cells": [
    {
      "cell_type": "markdown",
      "metadata": {
        "id": "EKPGjoWwP_g1",
        "colab_type": "text"
      },
      "source": [
        "### Importing the Keras libraries and packages"
      ]
    },
    {
      "cell_type": "code",
      "metadata": {
        "id": "z283vLaZP_g2",
        "colab_type": "code",
        "colab": {}
      },
      "source": [
        "from keras.models import Sequential\n",
        "from keras.layers import Conv2D\n",
        "from keras.layers import MaxPooling2D\n",
        "from keras.layers import Flatten\n",
        "from keras.layers import Dense\n",
        "from keras.layers import Dropout\n",
        "from keras.optimizers import Adam"
      ],
      "execution_count": 0,
      "outputs": []
    },
    {
      "cell_type": "code",
      "metadata": {
        "id": "PLiaVLmNP_g7",
        "colab_type": "code",
        "colab": {}
      },
      "source": [
        "# Initialising the CNN\n",
        "classifier = Sequential()\n",
        "    \n",
        "# Adding first Convolution layer\n",
        "classifier.add(Conv2D(32, (3, 3), padding = \"same\", input_shape = (64, 64, 3), activation = 'relu'))\n",
        "    \n",
        "# Pooling\n",
        "classifier.add(MaxPooling2D(pool_size = (2, 2)))\n",
        "    \n",
        "# Adding second convolutional layer\n",
        "classifier.add(Conv2D(32, (3, 3), padding = \"same\", activation = 'relu'))\n",
        "    \n",
        "# Pooling\n",
        "classifier.add(MaxPooling2D(pool_size = (2, 2)))\n",
        "\n",
        "# Adding third convolutional layer\n",
        "classifier.add(Conv2D(32, (3, 3), padding = \"same\", activation='relu'))\n",
        "\n",
        "# Pooling\n",
        "classifier.add(MaxPooling2D(pool_size = (2, 2)))\n",
        "\n",
        "# Adding fourth convolutional layer\n",
        "classifier.add(Conv2D(32, (3, 3), padding = \"same\", activation='relu'))\n",
        "\n",
        "# Pooling\n",
        "classifier.add(MaxPooling2D(pool_size = (2, 2)))\n",
        "\n",
        "    \n",
        "# Flattening\n",
        "classifier.add(Flatten())\n",
        "    \n",
        "# Fully connection layers\n",
        "classifier.add(Dense(units = 64, activation = 'relu'))\n",
        "    \n",
        "# Adding Dropout\n",
        "classifier.add(Dropout(0.6))\n",
        "\n",
        "classifier.add(Dense(units = 64, activation='relu'))\n",
        "\n",
        "classifier.add(Dense(units = 64, activation='relu'))\n",
        "\n",
        "# Adding Dropout\n",
        "classifier.add(Dropout(0.3))\n",
        "    \n",
        "# Adding the output layer\n",
        "classifier.add(Dense(units = 1, activation = 'sigmoid'))\n",
        "    \n",
        "# Compiling the CNN    \n",
        "optimizer = Adam(lr=1e-3)\n",
        "classifier.compile(optimizer = optimizer, loss = 'binary_crossentropy', metrics = ['accuracy'])"
      ],
      "execution_count": 0,
      "outputs": []
    },
    {
      "cell_type": "markdown",
      "metadata": {
        "id": "cNjMzbS6P_g6",
        "colab_type": "text"
      },
      "source": [
        "### Building the CNN"
      ]
    },
    {
      "cell_type": "markdown",
      "metadata": {
        "id": "cDGA7oQ0P_g-",
        "colab_type": "text"
      },
      "source": [
        "### Training the Classifier"
      ]
    },
    {
      "cell_type": "code",
      "metadata": {
        "id": "gmEG6QDiP_g-",
        "colab_type": "code",
        "colab": {}
      },
      "source": [
        "from keras.preprocessing.image import ImageDataGenerator"
      ],
      "execution_count": 0,
      "outputs": []
    },
    {
      "cell_type": "code",
      "metadata": {
        "id": "-uUFSNLcP_hA",
        "colab_type": "code",
        "colab": {}
      },
      "source": [
        "train_datagen = ImageDataGenerator(rescale = 1./255,\n",
        "                                   shear_range = 0.2,\n",
        "                                   zoom_range = 0.2,\n",
        "                                   horizontal_flip = True)"
      ],
      "execution_count": 0,
      "outputs": []
    },
    {
      "cell_type": "code",
      "metadata": {
        "id": "WG35iPDFP_hD",
        "colab_type": "code",
        "colab": {}
      },
      "source": [
        "test_datagen = ImageDataGenerator(rescale = 1./255)"
      ],
      "execution_count": 0,
      "outputs": []
    },
    {
      "cell_type": "code",
      "metadata": {
        "id": "aqSzDyjeP_hF",
        "colab_type": "code",
        "outputId": "5211b5ba-c3ff-4f56-e99b-c8caf406f031",
        "colab": {
          "base_uri": "https://localhost:8080/",
          "height": 34
        }
      },
      "source": [
        "batch_size = 64\n",
        "training_set = train_datagen.flow_from_directory('datasets/trainingset',\n",
        "                                                 target_size = (64, 64),\n",
        "                                                 batch_size = batch_size,\n",
        "                                                 class_mode = 'binary')"
      ],
      "execution_count": 47,
      "outputs": [
        {
          "output_type": "stream",
          "text": [
            "Found 4000 images belonging to 2 classes.\n"
          ],
          "name": "stdout"
        }
      ]
    },
    {
      "cell_type": "code",
      "metadata": {
        "id": "T01fC5PiP_hJ",
        "colab_type": "code",
        "colab": {
          "base_uri": "https://localhost:8080/",
          "height": 34
        },
        "outputId": "943ba61e-33a9-449d-e68a-32599da2dd09"
      },
      "source": [
        "batch_size = 64\n",
        "test_set = test_datagen.flow_from_directory('datasets/testset',\n",
        "                                            target_size = (64, 64),\n",
        "                                            batch_size = batch_size,\n",
        "                                            class_mode = 'binary')"
      ],
      "execution_count": 48,
      "outputs": [
        {
          "output_type": "stream",
          "text": [
            "Found 1000 images belonging to 2 classes.\n"
          ],
          "name": "stdout"
        }
      ]
    },
    {
      "cell_type": "code",
      "metadata": {
        "id": "iWcxJsGYP_hM",
        "colab_type": "code",
        "colab": {
          "base_uri": "https://localhost:8080/",
          "height": 1788
        },
        "outputId": "e92d84a5-4269-4d09-c65d-2fabd38f2618"
      },
      "source": [
        "batch_size = 64\n",
        "classifier.fit_generator(training_set,\n",
        "                         steps_per_epoch = 4000/batch_size,\n",
        "                         epochs = 50,\n",
        "                         workers=12,\n",
        "                         max_q_size=100,\n",
        "                         validation_data = test_set,\n",
        "                         validation_steps = 1000/batch_size)"
      ],
      "execution_count": 49,
      "outputs": [
        {
          "output_type": "stream",
          "text": [
            "/usr/local/lib/python3.6/dist-packages/ipykernel_launcher.py:8: UserWarning: Update your `fit_generator` call to the Keras 2 API: `fit_generator(<keras_pre..., steps_per_epoch=62.5, epochs=50, workers=12, validation_data=<keras_pre..., validation_steps=15.625, max_queue_size=100)`\n",
            "  \n"
          ],
          "name": "stderr"
        },
        {
          "output_type": "stream",
          "text": [
            "Epoch 1/50\n",
            "63/62 [==============================] - 72s 1s/step - loss: 0.6924 - acc: 0.5231 - val_loss: 0.6679 - val_acc: 0.5400\n",
            "Epoch 2/50\n",
            "63/62 [==============================] - 43s 678ms/step - loss: 0.6210 - acc: 0.6830 - val_loss: 0.5477 - val_acc: 0.7330\n",
            "Epoch 3/50\n",
            "63/62 [==============================] - 43s 686ms/step - loss: 0.5205 - acc: 0.7651 - val_loss: 0.5099 - val_acc: 0.7640\n",
            "Epoch 4/50\n",
            "63/62 [==============================] - 43s 681ms/step - loss: 0.4804 - acc: 0.7775 - val_loss: 0.5252 - val_acc: 0.7750\n",
            "Epoch 5/50\n",
            "63/62 [==============================] - 43s 678ms/step - loss: 0.4645 - acc: 0.8036 - val_loss: 0.4803 - val_acc: 0.7890\n",
            "Epoch 6/50\n",
            "63/62 [==============================] - 43s 683ms/step - loss: 0.4346 - acc: 0.8098 - val_loss: 0.4517 - val_acc: 0.8090\n",
            "Epoch 7/50\n",
            "63/62 [==============================] - 43s 686ms/step - loss: 0.4102 - acc: 0.8224 - val_loss: 0.4585 - val_acc: 0.7930\n",
            "Epoch 8/50\n",
            "63/62 [==============================] - 43s 689ms/step - loss: 0.3775 - acc: 0.8398 - val_loss: 0.4509 - val_acc: 0.8020\n",
            "Epoch 9/50\n",
            "63/62 [==============================] - 43s 679ms/step - loss: 0.3654 - acc: 0.8547 - val_loss: 0.4113 - val_acc: 0.8290\n",
            "Epoch 10/50\n",
            "63/62 [==============================] - 43s 679ms/step - loss: 0.3375 - acc: 0.8656 - val_loss: 0.3828 - val_acc: 0.8340\n",
            "Epoch 11/50\n",
            "63/62 [==============================] - 43s 678ms/step - loss: 0.3268 - acc: 0.8614 - val_loss: 0.3758 - val_acc: 0.8340\n",
            "Epoch 12/50\n",
            "63/62 [==============================] - 43s 677ms/step - loss: 0.2978 - acc: 0.8782 - val_loss: 0.3563 - val_acc: 0.8390\n",
            "Epoch 13/50\n",
            "63/62 [==============================] - 42s 674ms/step - loss: 0.2692 - acc: 0.8938 - val_loss: 0.3210 - val_acc: 0.8650\n",
            "Epoch 14/50\n",
            "63/62 [==============================] - 43s 679ms/step - loss: 0.2513 - acc: 0.9053 - val_loss: 0.3222 - val_acc: 0.8600\n",
            "Epoch 15/50\n",
            "63/62 [==============================] - 43s 681ms/step - loss: 0.2327 - acc: 0.9080 - val_loss: 0.3285 - val_acc: 0.8600\n",
            "Epoch 16/50\n",
            "63/62 [==============================] - 43s 675ms/step - loss: 0.2350 - acc: 0.9030 - val_loss: 0.2985 - val_acc: 0.8700\n",
            "Epoch 17/50\n",
            "63/62 [==============================] - 43s 676ms/step - loss: 0.2093 - acc: 0.9152 - val_loss: 0.3120 - val_acc: 0.8600\n",
            "Epoch 18/50\n",
            "63/62 [==============================] - 42s 672ms/step - loss: 0.1813 - acc: 0.9283 - val_loss: 0.2870 - val_acc: 0.8780\n",
            "Epoch 19/50\n",
            "63/62 [==============================] - 42s 674ms/step - loss: 0.1799 - acc: 0.9296 - val_loss: 0.2979 - val_acc: 0.8780\n",
            "Epoch 20/50\n",
            "63/62 [==============================] - 43s 678ms/step - loss: 0.1702 - acc: 0.9377 - val_loss: 0.3021 - val_acc: 0.8740\n",
            "Epoch 21/50\n",
            "63/62 [==============================] - 43s 680ms/step - loss: 0.1652 - acc: 0.9397 - val_loss: 0.2551 - val_acc: 0.8930\n",
            "Epoch 22/50\n",
            "63/62 [==============================] - 43s 683ms/step - loss: 0.1594 - acc: 0.9363 - val_loss: 0.2887 - val_acc: 0.8840\n",
            "Epoch 23/50\n",
            "63/62 [==============================] - 43s 682ms/step - loss: 0.1375 - acc: 0.9489 - val_loss: 0.2700 - val_acc: 0.8890\n",
            "Epoch 24/50\n",
            "63/62 [==============================] - 43s 676ms/step - loss: 0.1352 - acc: 0.9479 - val_loss: 0.2616 - val_acc: 0.8860\n",
            "Epoch 25/50\n",
            "63/62 [==============================] - 43s 679ms/step - loss: 0.1260 - acc: 0.9514 - val_loss: 0.2715 - val_acc: 0.8900\n",
            "Epoch 26/50\n",
            "63/62 [==============================] - 43s 677ms/step - loss: 0.1258 - acc: 0.9516 - val_loss: 0.2572 - val_acc: 0.9020\n",
            "Epoch 27/50\n",
            "63/62 [==============================] - 43s 679ms/step - loss: 0.1254 - acc: 0.9516 - val_loss: 0.2634 - val_acc: 0.8990\n",
            "Epoch 28/50\n",
            "63/62 [==============================] - 43s 681ms/step - loss: 0.1173 - acc: 0.9563 - val_loss: 0.2462 - val_acc: 0.9070\n",
            "Epoch 29/50\n",
            "63/62 [==============================] - 43s 683ms/step - loss: 0.1220 - acc: 0.9561 - val_loss: 0.2836 - val_acc: 0.9010\n",
            "Epoch 30/50\n",
            "63/62 [==============================] - 43s 686ms/step - loss: 0.1025 - acc: 0.9608 - val_loss: 0.2729 - val_acc: 0.8930\n",
            "Epoch 31/50\n",
            "63/62 [==============================] - 43s 679ms/step - loss: 0.0967 - acc: 0.9670 - val_loss: 0.2515 - val_acc: 0.9060\n",
            "Epoch 32/50\n",
            "63/62 [==============================] - 43s 678ms/step - loss: 0.1046 - acc: 0.9581 - val_loss: 0.3020 - val_acc: 0.9000\n",
            "Epoch 33/50\n",
            "63/62 [==============================] - 43s 677ms/step - loss: 0.0929 - acc: 0.9643 - val_loss: 0.2886 - val_acc: 0.9090\n",
            "Epoch 34/50\n",
            "63/62 [==============================] - 43s 678ms/step - loss: 0.0892 - acc: 0.9702 - val_loss: 0.3191 - val_acc: 0.8940\n",
            "Epoch 35/50\n",
            "63/62 [==============================] - 43s 681ms/step - loss: 0.0891 - acc: 0.9670 - val_loss: 0.2598 - val_acc: 0.9120\n",
            "Epoch 36/50\n",
            "63/62 [==============================] - 43s 682ms/step - loss: 0.0960 - acc: 0.9673 - val_loss: 0.2328 - val_acc: 0.9070\n",
            "Epoch 37/50\n",
            "63/62 [==============================] - 43s 687ms/step - loss: 0.0811 - acc: 0.9702 - val_loss: 0.2486 - val_acc: 0.9150\n",
            "Epoch 38/50\n",
            "63/62 [==============================] - 43s 680ms/step - loss: 0.0839 - acc: 0.9685 - val_loss: 0.2213 - val_acc: 0.9120\n",
            "Epoch 39/50\n",
            "63/62 [==============================] - 43s 682ms/step - loss: 0.0730 - acc: 0.9735 - val_loss: 0.2235 - val_acc: 0.9090\n",
            "Epoch 40/50\n",
            "63/62 [==============================] - 43s 679ms/step - loss: 0.0712 - acc: 0.9725 - val_loss: 0.2257 - val_acc: 0.9250\n",
            "Epoch 41/50\n",
            "63/62 [==============================] - 43s 676ms/step - loss: 0.0818 - acc: 0.9707 - val_loss: 0.2757 - val_acc: 0.9060\n",
            "Epoch 42/50\n",
            "63/62 [==============================] - 43s 677ms/step - loss: 0.0658 - acc: 0.9745 - val_loss: 0.3121 - val_acc: 0.9150\n",
            "Epoch 43/50\n",
            "63/62 [==============================] - 43s 679ms/step - loss: 0.0856 - acc: 0.9673 - val_loss: 0.2730 - val_acc: 0.9080\n",
            "Epoch 44/50\n",
            "63/62 [==============================] - 43s 683ms/step - loss: 0.0739 - acc: 0.9717 - val_loss: 0.3010 - val_acc: 0.9090\n",
            "Epoch 45/50\n",
            "63/62 [==============================] - 43s 675ms/step - loss: 0.0716 - acc: 0.9725 - val_loss: 0.2491 - val_acc: 0.9170\n",
            "Epoch 46/50\n",
            "63/62 [==============================] - 43s 677ms/step - loss: 0.0638 - acc: 0.9774 - val_loss: 0.2366 - val_acc: 0.9270\n",
            "Epoch 47/50\n",
            "63/62 [==============================] - 42s 673ms/step - loss: 0.0730 - acc: 0.9717 - val_loss: 0.2737 - val_acc: 0.9190\n",
            "Epoch 48/50\n",
            "63/62 [==============================] - 42s 674ms/step - loss: 0.0604 - acc: 0.9787 - val_loss: 0.2492 - val_acc: 0.9220\n",
            "Epoch 49/50\n",
            "63/62 [==============================] - 42s 673ms/step - loss: 0.0737 - acc: 0.9735 - val_loss: 0.2613 - val_acc: 0.9180\n",
            "Epoch 50/50\n",
            "63/62 [==============================] - 43s 675ms/step - loss: 0.0592 - acc: 0.9787 - val_loss: 0.2684 - val_acc: 0.9180\n"
          ],
          "name": "stdout"
        },
        {
          "output_type": "execute_result",
          "data": {
            "text/plain": [
              "<keras.callbacks.History at 0x7fba52515d30>"
            ]
          },
          "metadata": {
            "tags": []
          },
          "execution_count": 49
        }
      ]
    },
    {
      "cell_type": "markdown",
      "metadata": {
        "id": "fxxsX3h8P_hP",
        "colab_type": "text"
      },
      "source": [
        "### Making new predictions"
      ]
    },
    {
      "cell_type": "code",
      "metadata": {
        "id": "p3yoJ3s3P_hP",
        "colab_type": "code",
        "colab": {}
      },
      "source": [
        "import numpy as np\n",
        "from keras.preprocessing import image"
      ],
      "execution_count": 0,
      "outputs": []
    },
    {
      "cell_type": "code",
      "metadata": {
        "id": "B3N8uDQRP_hR",
        "colab_type": "code",
        "colab": {}
      },
      "source": [
        "# Loading the image\n",
        "\n",
        "# male_female1.jpg is an image of a female\n",
        "\n",
        "test_image_1 = image.load_img('datasets/predict_image/male_female1.jpg', target_size = (64, 64))\n",
        "\n",
        "# male_female2.jpg is an image of a male\n",
        "\n",
        "test_image_2 = image.load_img('datasets/predict_image/male_female2.jpg', target_size = (64, 64))"
      ],
      "execution_count": 0,
      "outputs": []
    },
    {
      "cell_type": "code",
      "metadata": {
        "id": "eNL9lNDcP_hU",
        "colab_type": "code",
        "colab": {}
      },
      "source": [
        "# Converting image to array of pixels\n",
        "\n",
        "test_image_1 = image.img_to_array(test_image_1)\n",
        "\n",
        "test_image_2 = image.img_to_array(test_image_2)"
      ],
      "execution_count": 0,
      "outputs": []
    },
    {
      "cell_type": "code",
      "metadata": {
        "id": "RxvfsCekP_hW",
        "colab_type": "code",
        "colab": {}
      },
      "source": [
        "# Expanding dimension\n",
        "\n",
        "test_image_1 = np.expand_dims(test_image_1, axis = 0)\n",
        "\n",
        "test_image_2 = np.expand_dims(test_image_2, axis = 0)"
      ],
      "execution_count": 0,
      "outputs": []
    },
    {
      "cell_type": "code",
      "metadata": {
        "id": "YwvSBG00P_hY",
        "colab_type": "code",
        "colab": {}
      },
      "source": [
        "# Predict the image\n",
        "\n",
        "result = classifier.predict(test_image_1)"
      ],
      "execution_count": 0,
      "outputs": []
    },
    {
      "cell_type": "code",
      "metadata": {
        "id": "booO1ydEP_hb",
        "colab_type": "code",
        "colab": {
          "base_uri": "https://localhost:8080/",
          "height": 34
        },
        "outputId": "73f7296c-7967-4f8f-df25-07ed2693d629"
      },
      "source": [
        "# Checking the prediction\n",
        "\n",
        "training_set.class_indices\n",
        "if result[0][0] == 1:\n",
        "    prediction = 'male'\n",
        "else:\n",
        "    prediction = 'female'\n",
        "print(prediction)"
      ],
      "execution_count": 66,
      "outputs": [
        {
          "output_type": "stream",
          "text": [
            "female\n"
          ],
          "name": "stdout"
        }
      ]
    },
    {
      "cell_type": "code",
      "metadata": {
        "id": "0BNMG-S8oqZF",
        "colab_type": "code",
        "colab": {}
      },
      "source": [
        "# Predict the image\n",
        "\n",
        "result = classifier.predict(test_image_2)"
      ],
      "execution_count": 0,
      "outputs": []
    },
    {
      "cell_type": "code",
      "metadata": {
        "id": "TmiPN05wo3h2",
        "colab_type": "code",
        "colab": {
          "base_uri": "https://localhost:8080/",
          "height": 34
        },
        "outputId": "62a5e9d2-6ad5-44b9-9e55-d15eb15cdda6"
      },
      "source": [
        "if result[0][0] == 1:\n",
        "    prediction = 'male'\n",
        "else:\n",
        "    prediction = 'female'\n",
        "print(prediction)"
      ],
      "execution_count": 68,
      "outputs": [
        {
          "output_type": "stream",
          "text": [
            "male\n"
          ],
          "name": "stdout"
        }
      ]
    }
  ]
}